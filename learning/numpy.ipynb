{
 "cells": [
  {
   "cell_type": "code",
   "execution_count": 2,
   "id": "05184024-babe-44fb-92e2-c7ce5e46a850",
   "metadata": {},
   "outputs": [],
   "source": [
    "import numpy as np"
   ]
  },
  {
   "cell_type": "code",
   "execution_count": 3,
   "id": "cb68287a-e419-4218-bd77-3f5da875748a",
   "metadata": {},
   "outputs": [
    {
     "data": {
      "text/plain": [
       "array([3. , 4. , 5.6, 0. , 1. ])"
      ]
     },
     "execution_count": 3,
     "metadata": {},
     "output_type": "execute_result"
    }
   ],
   "source": [
    "data1 = [3, 4, 5.6, 0, 1]\n",
    "arr1 = np.array(data1)\n",
    "arr1"
   ]
  },
  {
   "cell_type": "code",
   "execution_count": 7,
   "id": "d941c86c-c555-4968-8f0c-33d636cbc111",
   "metadata": {},
   "outputs": [
    {
     "data": {
      "text/plain": [
       "(array([[1, 2, 3, 4],\n",
       "        [5, 6, 7, 8]]),\n",
       " (2, 4),\n",
       " 2)"
      ]
     },
     "execution_count": 7,
     "metadata": {},
     "output_type": "execute_result"
    }
   ],
   "source": [
    "data2 = [[1, 2, 3, 4], [5, 6, 7, 8]]\n",
    "arr2 = np.array(data2)\n",
    "(arr2, arr2.shape, arr2.ndim)"
   ]
  },
  {
   "cell_type": "code",
   "execution_count": 9,
   "id": "4e4a1591-28bc-41d7-bb6c-73cd7bb713d4",
   "metadata": {},
   "outputs": [
    {
     "data": {
      "text/plain": [
       "(dtype('float64'), dtype('int64'))"
      ]
     },
     "execution_count": 9,
     "metadata": {},
     "output_type": "execute_result"
    }
   ],
   "source": [
    "arr1.dtype, arr2.dtype"
   ]
  },
  {
   "cell_type": "code",
   "execution_count": 11,
   "id": "d269709b-4087-4e96-b82d-0d5b7c32f942",
   "metadata": {},
   "outputs": [
    {
     "data": {
      "text/plain": [
       "array([[0., 0., 0., 0., 0., 0.],\n",
       "       [0., 0., 0., 0., 0., 0.],\n",
       "       [0., 0., 0., 0., 0., 0.]])"
      ]
     },
     "execution_count": 11,
     "metadata": {},
     "output_type": "execute_result"
    }
   ],
   "source": [
    "np.zeros(10)\n",
    "np.zeros((3, 6))"
   ]
  },
  {
   "cell_type": "code",
   "execution_count": 12,
   "id": "4384fa72-a9a5-4ab7-a9ab-a43051796cd5",
   "metadata": {},
   "outputs": [
    {
     "data": {
      "text/plain": [
       "array([[[4.66554376e-310, 0.00000000e+000],\n",
       "        [0.00000000e+000, 0.00000000e+000],\n",
       "        [0.00000000e+000, 0.00000000e+000]],\n",
       "\n",
       "       [[0.00000000e+000, 0.00000000e+000],\n",
       "        [0.00000000e+000, 0.00000000e+000],\n",
       "        [0.00000000e+000, 0.00000000e+000]]])"
      ]
     },
     "execution_count": 12,
     "metadata": {},
     "output_type": "execute_result"
    }
   ],
   "source": [
    "np.empty((2, 3, 2))"
   ]
  },
  {
   "cell_type": "code",
   "execution_count": 13,
   "id": "412eb531-1bc6-4c9a-952e-f64d114d64fe",
   "metadata": {},
   "outputs": [
    {
     "data": {
      "text/plain": [
       "array([ 0,  1,  2,  3,  4,  5,  6,  7,  8,  9, 10, 11, 12, 13, 14])"
      ]
     },
     "execution_count": 13,
     "metadata": {},
     "output_type": "execute_result"
    }
   ],
   "source": [
    "np.arange(15)"
   ]
  },
  {
   "cell_type": "code",
   "execution_count": 17,
   "id": "9af151f5-c9f1-4ce4-8f29-c0dee8d42379",
   "metadata": {},
   "outputs": [
    {
     "name": "stdout",
     "output_type": "stream",
     "text": [
      "int64\n"
     ]
    },
    {
     "data": {
      "text/plain": [
       "dtype('float64')"
      ]
     },
     "execution_count": 17,
     "metadata": {},
     "output_type": "execute_result"
    }
   ],
   "source": [
    "farr = np.array([1, 2, 3, 4, 5])\n",
    "print(arr.dtype)\n",
    "float_arr = arr.astype(np.float64)\n",
    "float_arr.dtype"
   ]
  },
  {
   "cell_type": "code",
   "execution_count": 19,
   "id": "8809d007-ee49-4ab0-99c5-5c1c17c1e490",
   "metadata": {},
   "outputs": [
    {
     "data": {
      "text/plain": [
       "array([[ 1.,  4.,  9.],\n",
       "       [16., 25., 36.]])"
      ]
     },
     "execution_count": 19,
     "metadata": {},
     "output_type": "execute_result"
    }
   ],
   "source": [
    "arr = np.array([[1.0, 2.0, 3.0], [4.0, 5.0, 6.0]])\n",
    "arr * arr"
   ]
  },
  {
   "cell_type": "code",
   "execution_count": 20,
   "id": "3427eb38-ca45-4012-8d45-b0b4c3bddade",
   "metadata": {},
   "outputs": [
    {
     "data": {
      "text/plain": [
       "array([[0., 0., 0.],\n",
       "       [0., 0., 0.]])"
      ]
     },
     "execution_count": 20,
     "metadata": {},
     "output_type": "execute_result"
    }
   ],
   "source": [
    "arr - arr"
   ]
  },
  {
   "cell_type": "code",
   "execution_count": 21,
   "id": "c0de3663-5968-4b48-b303-040b86ec8ea8",
   "metadata": {},
   "outputs": [
    {
     "data": {
      "text/plain": [
       "array([[1.        , 0.5       , 0.33333333],\n",
       "       [0.25      , 0.2       , 0.16666667]])"
      ]
     },
     "execution_count": 21,
     "metadata": {},
     "output_type": "execute_result"
    }
   ],
   "source": [
    "1 / arr"
   ]
  },
  {
   "cell_type": "code",
   "execution_count": 22,
   "id": "669220e1-be8a-4811-b230-815446410534",
   "metadata": {},
   "outputs": [
    {
     "data": {
      "text/plain": [
       "array([[1.        , 1.41421356, 1.73205081],\n",
       "       [2.        , 2.23606798, 2.44948974]])"
      ]
     },
     "execution_count": 22,
     "metadata": {},
     "output_type": "execute_result"
    }
   ],
   "source": [
    "arr**0.5"
   ]
  },
  {
   "cell_type": "code",
   "execution_count": 23,
   "id": "11540f1c-56b0-4e9c-87ef-b64eb4235e24",
   "metadata": {},
   "outputs": [],
   "source": [
    "arr = np.arange(10)"
   ]
  },
  {
   "cell_type": "code",
   "execution_count": 24,
   "id": "dc67c6bb-7fc1-4ee0-9832-6361782e0be1",
   "metadata": {},
   "outputs": [
    {
     "data": {
      "text/plain": [
       "5"
      ]
     },
     "execution_count": 24,
     "metadata": {},
     "output_type": "execute_result"
    }
   ],
   "source": [
    "arr[5]"
   ]
  },
  {
   "cell_type": "code",
   "execution_count": 25,
   "id": "5dd8f80b-0ab7-4f03-a6c0-58998c9bb374",
   "metadata": {},
   "outputs": [
    {
     "data": {
      "text/plain": [
       "array([5, 6, 7])"
      ]
     },
     "execution_count": 25,
     "metadata": {},
     "output_type": "execute_result"
    }
   ],
   "source": [
    "arr[5:8]"
   ]
  },
  {
   "cell_type": "code",
   "execution_count": 26,
   "id": "3e75a413-b335-4055-a94a-f18fd010dbcc",
   "metadata": {},
   "outputs": [
    {
     "data": {
      "text/plain": [
       "array([ 0,  1,  2,  3,  4,  5, 12,  7,  8,  9])"
      ]
     },
     "execution_count": 26,
     "metadata": {},
     "output_type": "execute_result"
    }
   ],
   "source": [
    "arr_slice = arr[5:8]\n",
    "arr_slice[1] = 12\n",
    "arr"
   ]
  },
  {
   "cell_type": "code",
   "execution_count": 27,
   "id": "82ff9af6-bf24-412a-8636-695c36b8b67c",
   "metadata": {},
   "outputs": [
    {
     "data": {
      "text/plain": [
       "array([    0,     1,     2,     3,     4, 10086, 10086, 10086,     8,\n",
       "           9])"
      ]
     },
     "execution_count": 27,
     "metadata": {},
     "output_type": "execute_result"
    }
   ],
   "source": [
    "arr_slice[:] = 10086\n",
    "arr"
   ]
  },
  {
   "cell_type": "code",
   "execution_count": 29,
   "id": "3db0fd6a-e6bc-4eed-b69b-f4d5af3db511",
   "metadata": {},
   "outputs": [
    {
     "data": {
      "text/plain": [
       "3"
      ]
     },
     "execution_count": 29,
     "metadata": {},
     "output_type": "execute_result"
    }
   ],
   "source": [
    "arr2d = np.array([[1, 2, 3], [4, 5, 6], [7, 8, 9]])\n",
    "arr2d[0][2]"
   ]
  },
  {
   "cell_type": "code",
   "execution_count": 30,
   "id": "f307070f-3fba-43d5-a135-ab6987f04681",
   "metadata": {},
   "outputs": [
    {
     "data": {
      "text/plain": [
       "array([[1, 2, 3],\n",
       "       [4, 5, 6],\n",
       "       [7, 8, 9]])"
      ]
     },
     "execution_count": 30,
     "metadata": {},
     "output_type": "execute_result"
    }
   ],
   "source": [
    "arr2d"
   ]
  },
  {
   "cell_type": "code",
   "execution_count": 31,
   "id": "e2ff02fc-335c-47f2-80d5-4613b75bd9f8",
   "metadata": {},
   "outputs": [
    {
     "data": {
      "text/plain": [
       "array([[1, 2, 3],\n",
       "       [4, 5, 6]])"
      ]
     },
     "execution_count": 31,
     "metadata": {},
     "output_type": "execute_result"
    }
   ],
   "source": [
    "arr2d[:2]"
   ]
  },
  {
   "cell_type": "code",
   "execution_count": 32,
   "id": "3c9767b5-495c-4f2d-86e9-d304adc7e9b5",
   "metadata": {},
   "outputs": [
    {
     "data": {
      "text/plain": [
       "array([4, 5])"
      ]
     },
     "execution_count": 32,
     "metadata": {},
     "output_type": "execute_result"
    }
   ],
   "source": [
    "# 这里取第二行的前两列\n",
    "arr2d[1, 0:2]"
   ]
  },
  {
   "cell_type": "code",
   "execution_count": 33,
   "id": "300dddae-4d9a-4c4a-b86e-ae37e334ca50",
   "metadata": {},
   "outputs": [
    {
     "data": {
      "text/plain": [
       "array([3, 6])"
      ]
     },
     "execution_count": 33,
     "metadata": {},
     "output_type": "execute_result"
    }
   ],
   "source": [
    "arr2d[:2, 2]"
   ]
  },
  {
   "cell_type": "code",
   "execution_count": 39,
   "id": "20bf8ebb-3666-4159-b64b-e45954b7b790",
   "metadata": {},
   "outputs": [
    {
     "data": {
      "text/plain": [
       "array([[1],\n",
       "       [4],\n",
       "       [7]])"
      ]
     },
     "execution_count": 39,
     "metadata": {},
     "output_type": "execute_result"
    }
   ],
   "source": [
    "arr2d[:, :1]"
   ]
  },
  {
   "cell_type": "code",
   "execution_count": 43,
   "id": "31a5d27c-db8e-45b2-91fd-33b499c6c753",
   "metadata": {},
   "outputs": [
    {
     "data": {
      "text/plain": [
       "array([[-2.70093724e-01, -4.55880784e-01,  4.59848289e-01,\n",
       "         4.16814347e-01],\n",
       "       [-3.67248365e-01,  2.40225807e+00, -1.62152183e-01,\n",
       "         9.13358645e-01],\n",
       "       [-5.31418918e-01,  4.67834340e-01, -7.31372023e-01,\n",
       "        -7.81748688e-01],\n",
       "       [ 3.34410637e-01,  6.80033576e-01,  9.03663346e-01,\n",
       "         1.36330701e-03],\n",
       "       [-5.05072500e-01,  1.85860866e+00,  1.54294934e+00,\n",
       "         1.00046064e+00],\n",
       "       [-7.04288483e-01,  7.24289624e-01,  5.12863681e-01,\n",
       "         2.52582206e+00],\n",
       "       [ 2.71955275e-01, -1.88078130e+00, -1.07709726e-01,\n",
       "         4.45397340e-01]])"
      ]
     },
     "execution_count": 43,
     "metadata": {},
     "output_type": "execute_result"
    }
   ],
   "source": [
    "names = np.array([\"Bob\", \"Joe\", \"Will\", \"Bob\", \"Will\", \"Joe\", \"Joe\"])\n",
    "data = np.random.randn(7, 4)\n",
    "data"
   ]
  },
  {
   "cell_type": "code",
   "execution_count": 45,
   "id": "d9fd96bf-0c1f-41d2-bf95-32de0d498664",
   "metadata": {},
   "outputs": [
    {
     "data": {
      "text/plain": [
       "array([[-0.27009372, -0.45588078,  0.45984829,  0.41681435],\n",
       "       [ 0.33441064,  0.68003358,  0.90366335,  0.00136331]])"
      ]
     },
     "execution_count": 45,
     "metadata": {},
     "output_type": "execute_result"
    }
   ],
   "source": [
    "data[names == \"Bob\"]"
   ]
  },
  {
   "cell_type": "code",
   "execution_count": 46,
   "id": "b36e67d1-f58b-481f-b7e3-19d9dbbb1abd",
   "metadata": {},
   "outputs": [],
   "source": [
    "mask = (names == \"Bob\") | (names == \"Will\")"
   ]
  },
  {
   "cell_type": "code",
   "execution_count": 48,
   "id": "379595d7-732c-445e-b74c-8b71f19664f3",
   "metadata": {},
   "outputs": [
    {
     "data": {
      "text/plain": [
       "array([[-2.70093724e-01, -4.55880784e-01,  4.59848289e-01,\n",
       "         4.16814347e-01],\n",
       "       [-5.31418918e-01,  4.67834340e-01, -7.31372023e-01,\n",
       "        -7.81748688e-01],\n",
       "       [ 3.34410637e-01,  6.80033576e-01,  9.03663346e-01,\n",
       "         1.36330701e-03],\n",
       "       [-5.05072500e-01,  1.85860866e+00,  1.54294934e+00,\n",
       "         1.00046064e+00]])"
      ]
     },
     "execution_count": 48,
     "metadata": {},
     "output_type": "execute_result"
    }
   ],
   "source": [
    "data[mask]"
   ]
  },
  {
   "cell_type": "code",
   "execution_count": 49,
   "id": "17651aa4-7ca8-4416-8854-7e1ffa582c63",
   "metadata": {},
   "outputs": [],
   "source": [
    "data[data < 0] = 0"
   ]
  },
  {
   "cell_type": "code",
   "execution_count": 50,
   "id": "834788ef-4b9a-4a36-a456-4166e679332a",
   "metadata": {},
   "outputs": [
    {
     "data": {
      "text/plain": [
       "array([[0.00000000e+00, 0.00000000e+00, 4.59848289e-01, 4.16814347e-01],\n",
       "       [0.00000000e+00, 2.40225807e+00, 0.00000000e+00, 9.13358645e-01],\n",
       "       [0.00000000e+00, 4.67834340e-01, 0.00000000e+00, 0.00000000e+00],\n",
       "       [3.34410637e-01, 6.80033576e-01, 9.03663346e-01, 1.36330701e-03],\n",
       "       [0.00000000e+00, 1.85860866e+00, 1.54294934e+00, 1.00046064e+00],\n",
       "       [0.00000000e+00, 7.24289624e-01, 5.12863681e-01, 2.52582206e+00],\n",
       "       [2.71955275e-01, 0.00000000e+00, 0.00000000e+00, 4.45397340e-01]])"
      ]
     },
     "execution_count": 50,
     "metadata": {},
     "output_type": "execute_result"
    }
   ],
   "source": [
    "data"
   ]
  },
  {
   "cell_type": "code",
   "execution_count": 51,
   "id": "208dfe9c-d0e5-4821-9df4-ec3c909cdd7c",
   "metadata": {},
   "outputs": [],
   "source": [
    "arr = np.arange(15).reshape((3, 5))"
   ]
  },
  {
   "cell_type": "code",
   "execution_count": 52,
   "id": "f42bcd74-b271-4bc8-83cc-1e8e352e18bb",
   "metadata": {},
   "outputs": [
    {
     "data": {
      "text/plain": [
       "array([[ 0,  1,  2,  3,  4],\n",
       "       [ 5,  6,  7,  8,  9],\n",
       "       [10, 11, 12, 13, 14]])"
      ]
     },
     "execution_count": 52,
     "metadata": {},
     "output_type": "execute_result"
    }
   ],
   "source": [
    "arr"
   ]
  },
  {
   "cell_type": "code",
   "execution_count": 53,
   "id": "2e84b28f-80fc-4d88-9033-d2aa27521418",
   "metadata": {},
   "outputs": [
    {
     "data": {
      "text/plain": [
       "array([[ 0,  5, 10],\n",
       "       [ 1,  6, 11],\n",
       "       [ 2,  7, 12],\n",
       "       [ 3,  8, 13],\n",
       "       [ 4,  9, 14]])"
      ]
     },
     "execution_count": 53,
     "metadata": {},
     "output_type": "execute_result"
    }
   ],
   "source": [
    "arr.T"
   ]
  },
  {
   "cell_type": "code",
   "execution_count": 54,
   "id": "00ea5764-1f89-41e2-b0ab-d727db8c0390",
   "metadata": {},
   "outputs": [
    {
     "name": "stdout",
     "output_type": "stream",
     "text": [
      "Help on _ArrayFunctionDispatcher in module numpy:\n",
      "\n",
      "transpose(a, axes=None)\n",
      "    Returns an array with axes transposed.\n",
      "\n",
      "    For a 1-D array, this returns an unchanged view of the original array, as a\n",
      "    transposed vector is simply the same vector.\n",
      "    To convert a 1-D array into a 2-D column vector, an additional dimension\n",
      "    must be added, e.g., ``np.atleast2d(a).T`` achieves this, as does\n",
      "    ``a[:, np.newaxis]``.\n",
      "    For a 2-D array, this is the standard matrix transpose.\n",
      "    For an n-D array, if axes are given, their order indicates how the\n",
      "    axes are permuted (see Examples). If axes are not provided, then\n",
      "    ``transpose(a).shape == a.shape[::-1]``.\n",
      "\n",
      "    Parameters\n",
      "    ----------\n",
      "    a : array_like\n",
      "        Input array.\n",
      "    axes : tuple or list of ints, optional\n",
      "        If specified, it must be a tuple or list which contains a permutation\n",
      "        of [0,1,...,N-1] where N is the number of axes of `a`. The `i`'th axis\n",
      "        of the returned array will correspond to the axis numbered ``axes[i]``\n",
      "        of the input. If not specified, defaults to ``range(a.ndim)[::-1]``,\n",
      "        which reverses the order of the axes.\n",
      "\n",
      "    Returns\n",
      "    -------\n",
      "    p : ndarray\n",
      "        `a` with its axes permuted. A view is returned whenever possible.\n",
      "\n",
      "    See Also\n",
      "    --------\n",
      "    ndarray.transpose : Equivalent method.\n",
      "    moveaxis : Move axes of an array to new positions.\n",
      "    argsort : Return the indices that would sort an array.\n",
      "\n",
      "    Notes\n",
      "    -----\n",
      "    Use ``transpose(a, argsort(axes))`` to invert the transposition of tensors\n",
      "    when using the `axes` keyword argument.\n",
      "\n",
      "    Examples\n",
      "    --------\n",
      "    >>> a = np.array([[1, 2], [3, 4]])\n",
      "    >>> a\n",
      "    array([[1, 2],\n",
      "           [3, 4]])\n",
      "    >>> np.transpose(a)\n",
      "    array([[1, 3],\n",
      "           [2, 4]])\n",
      "\n",
      "    >>> a = np.array([1, 2, 3, 4])\n",
      "    >>> a\n",
      "    array([1, 2, 3, 4])\n",
      "    >>> np.transpose(a)\n",
      "    array([1, 2, 3, 4])\n",
      "\n",
      "    >>> a = np.ones((1, 2, 3))\n",
      "    >>> np.transpose(a, (1, 0, 2)).shape\n",
      "    (2, 1, 3)\n",
      "\n",
      "    >>> a = np.ones((2, 3, 4, 5))\n",
      "    >>> np.transpose(a).shape\n",
      "    (5, 4, 3, 2)\n",
      "\n"
     ]
    }
   ],
   "source": [
    "help(np.transpose)"
   ]
  }
 ],
 "metadata": {
  "kernelspec": {
   "display_name": "Python 3 (ipykernel)",
   "language": "python",
   "name": "python3"
  },
  "language_info": {
   "codemirror_mode": {
    "name": "ipython",
    "version": 3
   },
   "file_extension": ".py",
   "mimetype": "text/x-python",
   "name": "python",
   "nbconvert_exporter": "python",
   "pygments_lexer": "ipython3",
   "version": "3.12.3"
  }
 },
 "nbformat": 4,
 "nbformat_minor": 5
}
